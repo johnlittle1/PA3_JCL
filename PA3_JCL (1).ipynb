{
 "cells": [
  {
   "cell_type": "markdown",
   "id": "d4f1507e-d166-4402-863a-4b1c93f2ee12",
   "metadata": {},
   "source": [
    "# Programming Assignment 3\n",
    "---\n",
    "**Author:** John Little  \n",
    "**Version:** 1.0  \n",
    "**Semester:** Spring 2024 "
   ]
  },
  {
   "cell_type": "markdown",
   "id": "918a3f9d-2ff3-4aa0-b300-a2d98f135305",
   "metadata": {},
   "source": [
    "### Problem 1 - Geometry Calculator "
   ]
  },
  {
   "cell_type": "code",
   "execution_count": null,
   "id": "4add0902-ff77-4ff0-813f-0570e0360023",
   "metadata": {},
   "outputs": [
    {
     "name": "stdout",
     "output_type": "stream",
     "text": [
      "Please read the key before entering your shape:\n",
      "  Type Q to quit the program.\n",
      "  Type S for a sqaure.\n",
      "  Type TRI for a triangle.\n",
      "  Type C for a circle.\n",
      "  Type R for a rectangle.\n",
      "  Type E for an ellipse.\n",
      "  Type TRAP for a trapezoid.\n"
     ]
    },
    {
     "name": "stdin",
     "output_type": "stream",
     "text": [
      "What is the shape of the object?  S\n",
      "What is the length of each side?  3\n"
     ]
    }
   ],
   "source": [
    "import math \n",
    "\n",
    "print('Please read the key before entering your shape:')\n",
    "print('  Type Q to quit the program.')\n",
    "print('  Type S for a sqaure.')\n",
    "print('  Type TRI for a triangle.')\n",
    "print('  Type C for a circle.')\n",
    "print('  Type R for a rectangle.')\n",
    "print('  Type E for an ellipse.')\n",
    "print('  Type TRAP for a trapezoid.')\n",
    "shape = input('What is the shape of the object? ')\n",
    "\n",
    "while shape != 'Q':\n",
    "    if shape == 'S':\n",
    "        side = float(input('What is the length of each side? '))\n",
    "        square_area = side * side\n",
    "        square_perimeter = side * 4\n",
    "        \n",
    "    elif shape == 'TRI':\n",
    "        base = float(input('What is the base of your triangle? '))\n",
    "        height = float(input('What is the height of your triangle? '))\n",
    "        hypotenuse = ((base**2)+(height**2))**0.5\n",
    "        triangle_area = 0.5 * base * height\n",
    "        triangle_perimeter = base + height + hypotenuse\n",
    "        \n",
    "    elif shape == 'C':\n",
    "        radius = float(input('What is the radius of your circle? '))\n",
    "        circle_area = math.pi * radius**2\n",
    "        circle_perimeter = 2 * math.pi * radius\n",
    "    \n",
    "    elif shape == 'R':\n",
    "        base = float(input('What is the base of your rectangle? '))\n",
    "        height = float(input('What is the height of your rectangle? '))\n",
    "        rectangle_area = base * height\n",
    "        rectangle_perimeter = (2*base) + (2*height)\n",
    "\n",
    "    elif shape == 'E':\n",
    "        a = float(input('What is the horizontal radius of your ellipse? '))\n",
    "        b = float(input('What is the vertical radius of your ellipse? '))\n",
    "        ellipse_area = math.pi * a * b\n",
    "        ellipse_perimeter= math.pi*(3*(a+b)-(((3*a+b)*(a+3*b))**0.5))\n",
    "    elif shape == 'TRAP':\n",
    "        a = float(input('What is the width of the top of your trapezoid? '))\n",
    "        b = float(input('What is the width of the bottom of your trapezoid? '))\n",
    "        h = float(input('What is the height of your trapezoid? '))\n",
    "        if b>a:\n",
    "            hypotenuse = (((b-a)**2)+(h**2))**0.5\n",
    "        else:\n",
    "            hypotenuse = (((a-b)**2)+(h**2))**0.5\n",
    "        trapezoid_area = ((a+b)/2)*h\n",
    "        trapezoid_perimeter = a + b + (hypotenuse*2)\n",
    "        \n",
    "    else:\n",
    "        print('That is not a valid option.')\n",
    "    shape = input('What is the shape of the object? ')\n",
    "\n",
    "if shape == 'S':\n",
    "    print(f'The area of your square = {square_area}.')\n",
    "    print(f'The perimeter of your square = {square_perimeter}.')\n",
    "if shape == 'TRI':\n",
    "    print(f'The area of your triangle = {triangle_area}.')\n",
    "    print(f'The perimeter of your triangle = {triangle_perimeter}, assuming it is a right triangle.')\n",
    "if shape == 'C':\n",
    "    print(f'The area of your circle = {circle_area}.')\n",
    "    print(f'The perimeter of your circle = {circle_perimeter}.')\n",
    "if shape == 'R':\n",
    "    print(f'The area of your rectangle = {rectangle_area}.')\n",
    "    print(f'The perimeter of your rectangle = {rectangle_perimeter}.')\n",
    "if shape == 'E':\n",
    "    print(f'The area of your ellipse = {ellipse_area}.')\n",
    "    print(f'The perimeter of your ellipse = {ellipse_perimeter}.')\n",
    "if shape == 'TRAP':\n",
    "    print(f'The area of your trapezoid = {trapezoid_area}.')\n",
    "    print(f'The perimeter of your trapezoid = {trapezoid_perimeter}, assuming it is an isosceles trapezoid.')\n",
    "\n",
    "print('Done!')"
   ]
  },
  {
   "cell_type": "code",
   "execution_count": null,
   "id": "35581346-2277-420d-be58-4af6c48c47a9",
   "metadata": {},
   "outputs": [],
   "source": []
  },
  {
   "cell_type": "code",
   "execution_count": null,
   "id": "261090fe-fa96-46d5-9d31-7c56defed27c",
   "metadata": {},
   "outputs": [],
   "source": []
  },
  {
   "cell_type": "code",
   "execution_count": null,
   "id": "9e5d80b4-fd4e-4be8-8831-54b1cd50e59c",
   "metadata": {},
   "outputs": [],
   "source": []
  }
 ],
 "metadata": {
  "kernelspec": {
   "display_name": "anaconda-panel-2023.05-py310",
   "language": "python",
   "name": "conda-env-anaconda-panel-2023.05-py310-py"
  },
  "language_info": {
   "codemirror_mode": {
    "name": "ipython",
    "version": 3
   },
   "file_extension": ".py",
   "mimetype": "text/x-python",
   "name": "python",
   "nbconvert_exporter": "python",
   "pygments_lexer": "ipython3",
   "version": "3.11.5"
  }
 },
 "nbformat": 4,
 "nbformat_minor": 5
}
