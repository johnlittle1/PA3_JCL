{
 "cells": [
  {
   "cell_type": "markdown",
   "id": "d4f1507e-d166-4402-863a-4b1c93f2ee12",
   "metadata": {},
   "source": [
    "# Programming Assignment 3\n",
    "---\n",
    "**Author:** John Little  \n",
    "**Version:** 1.0  \n",
    "**Semester:** Spring 2024 "
   ]
  },
  {
   "cell_type": "markdown",
   "id": "918a3f9d-2ff3-4aa0-b300-a2d98f135305",
   "metadata": {},
   "source": [
    "### Problem 1 - Geometry Calculator "
   ]
  },
  {
   "cell_type": "code",
   "execution_count": 11,
   "id": "4add0902-ff77-4ff0-813f-0570e0360023",
   "metadata": {},
   "outputs": [
    {
     "name": "stdout",
     "output_type": "stream",
     "text": [
      "Please read the key before entering your shape:\n",
      "  Type Q to quit the program.\n",
      "  Type S for a sqaure.\n",
      "  Type TRI for a triangle.\n",
      "  Type C for a circle.\n",
      "  Type R for a rectangle.\n",
      "  Type E for an ellipse.\n",
      "  Type TRAP for a trapezoid.\n"
     ]
    },
    {
     "name": "stdin",
     "output_type": "stream",
     "text": [
      "What is the shape of the object?  S\n",
      "What is the length of each side?  4\n"
     ]
    },
    {
     "name": "stdout",
     "output_type": "stream",
     "text": [
      " The area of your square = 16.0.\n",
      " The perimeter of your square = 16.0.\n"
     ]
    },
    {
     "name": "stdin",
     "output_type": "stream",
     "text": [
      "What is the shape of the object?  TRI\n",
      "What is the base of your triangle?  3\n",
      "What is the height of your triangle?  4\n"
     ]
    },
    {
     "name": "stdout",
     "output_type": "stream",
     "text": [
      " The area of your triangle = 6.0.\n",
      " The perimeter of your triangle = 12.0, assuming it is a right triangle.\n"
     ]
    },
    {
     "name": "stdin",
     "output_type": "stream",
     "text": [
      "What is the shape of the object?  C\n",
      "What is the radius of your circle?  4\n"
     ]
    },
    {
     "name": "stdout",
     "output_type": "stream",
     "text": [
      " The area of your circle = 50.26548245743669.\n",
      " The perimeter of your circle = 25.132741228718345.\n"
     ]
    },
    {
     "name": "stdin",
     "output_type": "stream",
     "text": [
      "What is the shape of the object?  R\n",
      "What is the base of your rectangle?  3\n",
      "What is the height of your rectangle?  4\n"
     ]
    },
    {
     "name": "stdout",
     "output_type": "stream",
     "text": [
      " The area of your rectangle = 12.0.\n",
      " The perimeter of your rectangle = 14.0.\n"
     ]
    },
    {
     "name": "stdin",
     "output_type": "stream",
     "text": [
      "What is the shape of the object?  E\n",
      "What is the horizontal radius of your ellipse?  4\n",
      "What is the vertical radius of your ellipse?  5\n"
     ]
    },
    {
     "name": "stdout",
     "output_type": "stream",
     "text": [
      " The area of your ellipse = 62.83185307179586.\n",
      " The perimeter of your ellipse = 28.36166778425462.\n"
     ]
    },
    {
     "name": "stdin",
     "output_type": "stream",
     "text": [
      "What is the shape of the object?  TRAP\n",
      "What is the width of the top of your trapezoid?  4\n",
      "What is the width of the bottom of your trapezoid?  6\n",
      "What is the height of your trapezoid?  5\n"
     ]
    },
    {
     "name": "stdout",
     "output_type": "stream",
     "text": [
      " The area of your trapezoid = 25.0.\n",
      " The perimeter of your trapezoid = 20.77032961426901, assuming it is an isosceles trapezoid.\n"
     ]
    },
    {
     "name": "stdin",
     "output_type": "stream",
     "text": [
      "What is the shape of the object?  notashape\n"
     ]
    },
    {
     "name": "stdout",
     "output_type": "stream",
     "text": [
      "That is not a valid option.\n"
     ]
    },
    {
     "name": "stdin",
     "output_type": "stream",
     "text": [
      "What is the shape of the object?  Q\n"
     ]
    },
    {
     "name": "stdout",
     "output_type": "stream",
     "text": [
      "Done!\n"
     ]
    }
   ],
   "source": [
    "import math \n",
    "\n",
    "##user directions\n",
    "print('Please read the key before entering your shape:')\n",
    "print('  Type Q to quit the program.')\n",
    "print('  Type S for a sqaure.')\n",
    "print('  Type TRI for a triangle.')\n",
    "print('  Type C for a circle.')\n",
    "print('  Type R for a rectangle.')\n",
    "print('  Type E for an ellipse.')\n",
    "print('  Type TRAP for a trapezoid.')\n",
    "\n",
    "##function definitions \n",
    "def calc_square(side):\n",
    "    square_area = side * side\n",
    "    square_perimeter = side * 4\n",
    "    return square_area, square_perimeter\n",
    "def calc_triangle(base, height):\n",
    "    hypotenuse = ((base**2)+(height**2))**0.5\n",
    "    triangle_area = 0.5 * base * height\n",
    "    triangle_perimeter = base + height + hypotenuse\n",
    "    return triangle_area, triangle_perimeter \n",
    "def calc_circle(radius):\n",
    "    circle_area = math.pi * radius**2\n",
    "    circle_perimeter = 2 * math.pi * radius\n",
    "    return circle_area, circle_perimeter\n",
    "def calc_rectangle(base, height):\n",
    "    rectangle_area = base * height\n",
    "    rectangle_perimeter = (2*base) + (2*height)\n",
    "    return rectangle_area, rectangle_perimeter\n",
    "def calc_ellipse(a, b):\n",
    "    ellipse_area = math.pi * a * b\n",
    "    ellipse_perimeter= math.pi*(3*(a+b)-(((3*a+b)*(a+3*b))**0.5))\n",
    "    return ellipse_area, ellipse_perimeter \n",
    "def calc_trapezoid(a, b, h):\n",
    "    if b>a:\n",
    "        hypotenuse = (((b-a)**2)+(h**2))**0.5\n",
    "    else:\n",
    "        hypotenuse = (((a-b)**2)+(h**2))**0.5\n",
    "    trapezoid_area = ((a+b)/2)*h\n",
    "    trapezoid_perimeter = a + b + (hypotenuse*2)\n",
    "    return trapezoid_area, trapezoid_perimeter \n",
    "\n",
    "##user input and print statements \n",
    "shape = input('What is the shape of the object? ')\n",
    "while shape != 'Q':\n",
    "    if shape == 'S':\n",
    "        side = float(input('What is the length of each side? '))\n",
    "        square_area, square_perimeter = calc_square(side)\n",
    "        print(f' The area of your square = {square_area}.')\n",
    "        print(f' The perimeter of your square = {square_perimeter}.')\n",
    "    elif shape == 'TRI':\n",
    "        base = float(input('What is the base of your triangle? '))\n",
    "        height = float(input('What is the height of your triangle? '))\n",
    "        triangle_area, triangle_perimeter = calc_triangle(base, height)\n",
    "        print(f' The area of your triangle = {triangle_area}.')\n",
    "        print(f' The perimeter of your triangle = {triangle_perimeter}, assuming it is a right triangle.')\n",
    "    elif shape == 'C':\n",
    "        radius = float(input('What is the radius of your circle? '))\n",
    "        circle_area, circle_perimeter = calc_circle(radius)\n",
    "        print(f' The area of your circle = {circle_area}.')\n",
    "        print(f' The perimeter of your circle = {circle_perimeter}.')\n",
    "    elif shape == 'R':\n",
    "        base = float(input('What is the base of your rectangle? '))\n",
    "        height = float(input('What is the height of your rectangle? '))\n",
    "        rectangle_area, rectangle_perimeter = calc_rectangle(base, height)\n",
    "        print(f' The area of your rectangle = {rectangle_area}.')\n",
    "        print(f' The perimeter of your rectangle = {rectangle_perimeter}.')\n",
    "    elif shape == 'E':\n",
    "        a = float(input('What is the horizontal radius of your ellipse? '))\n",
    "        b = float(input('What is the vertical radius of your ellipse? '))\n",
    "        ellipse_area, ellipse_perimeter = calc_ellipse(a, b)\n",
    "        print(f' The area of your ellipse = {ellipse_area}.')\n",
    "        print(f' The perimeter of your ellipse = {ellipse_perimeter}.')\n",
    "    elif shape == 'TRAP':\n",
    "        a = float(input('What is the width of the top of your trapezoid? '))\n",
    "        b = float(input('What is the width of the bottom of your trapezoid? '))\n",
    "        h = float(input('What is the height of your trapezoid? '))\n",
    "        trapezoid_area, trapezoid_perimeter = calc_trapezoid(a, b, h)\n",
    "        print(f' The area of your trapezoid = {trapezoid_area}.')\n",
    "        print(f' The perimeter of your trapezoid = {trapezoid_perimeter}, assuming it is an isosceles trapezoid.')\n",
    "    else:\n",
    "        print('That is not a valid option.')\n",
    "    shape = input('What is the shape of the object? ')\n",
    "print('Done!')"
   ]
  },
  {
   "cell_type": "markdown",
   "id": "b0047f04-f9e1-4303-bda9-b2de3df34d9b",
   "metadata": {},
   "source": [
    "### Problem 2 - Horse Computations "
   ]
  },
  {
   "cell_type": "code",
   "execution_count": 13,
   "id": "261090fe-fa96-46d5-9d31-7c56defed27c",
   "metadata": {},
   "outputs": [
    {
     "name": "stdout",
     "output_type": "stream",
     "text": [
      "Please read the key before entering your unit of measurement:\n",
      "  Type Q to quit the program.\n",
      "  Type H to convert from hands.\n",
      "  Type L to convert from horse length.\n"
     ]
    },
    {
     "name": "stdin",
     "output_type": "stream",
     "text": [
      "What unit of measurement would you like to convert from?  H\n",
      "How many hands?  21\n"
     ]
    },
    {
     "name": "stdout",
     "output_type": "stream",
     "text": [
      "21.0 hands is equivalent to 7.0 feet.\n"
     ]
    },
    {
     "name": "stdin",
     "output_type": "stream",
     "text": [
      "What unit of measurement would you like to convert from?  L\n",
      "How many horse lengths?  21\n"
     ]
    },
    {
     "name": "stdout",
     "output_type": "stream",
     "text": [
      "21.0 horse lengths is equivalent to 168.0 feet.\n"
     ]
    },
    {
     "name": "stdin",
     "output_type": "stream",
     "text": [
      "What unit of measurement would you like to convert from?  notaunit\n"
     ]
    },
    {
     "name": "stdout",
     "output_type": "stream",
     "text": [
      "That is not a valid option.\n"
     ]
    },
    {
     "name": "stdin",
     "output_type": "stream",
     "text": [
      "What unit of measurement would you like to convert from?  Q\n"
     ]
    },
    {
     "name": "stdout",
     "output_type": "stream",
     "text": [
      "Done!\n"
     ]
    }
   ],
   "source": [
    "##user directions\n",
    "print('Please read the key before entering your unit of measurement:')\n",
    "print('  Type Q to quit the program.')\n",
    "print('  Type H to convert from hands.')\n",
    "print('  Type L to convert from horse length.')\n",
    "\n",
    "##function definitions\n",
    "def convert_hands(hands=5):\n",
    "    feet = (hands*4)/12\n",
    "    return feet\n",
    "def convert_length(length=1):\n",
    "    feet = length*8\n",
    "    return feet\n",
    "\n",
    "##user input and print statements \n",
    "unit = input('What unit of measurement would you like to convert from? ')\n",
    "while unit != 'Q':\n",
    "    if unit == 'H':\n",
    "       hands = float(input('How many hands? '))\n",
    "       feet = convert_hands(hands)\n",
    "       print(f'{hands} hands is equivalent to {feet} feet.')\n",
    "    elif unit == 'L':\n",
    "        length = float(input('How many horse lengths? '))\n",
    "        feet = convert_length(length)\n",
    "        print(f'{length} horse lengths is equivalent to {feet} feet.')\n",
    "    else: \n",
    "        print('That is not a valid option.')\n",
    "    unit = input('What unit of measurement would you like to convert from? ')\n",
    "print('Done!')"
   ]
  },
  {
   "cell_type": "markdown",
   "id": "bb777415-f504-457d-8e30-4081e283e56b",
   "metadata": {},
   "source": [
    "### Problem 3 - Mean Temperature "
   ]
  },
  {
   "cell_type": "code",
   "execution_count": 15,
   "id": "23163281-a5fe-49c2-b6e3-366b777a8a07",
   "metadata": {},
   "outputs": [
    {
     "name": "stdout",
     "output_type": "stream",
     "text": [
      " The mean temperature for the last 3 days is 71.0°F.\n"
     ]
    }
   ],
   "source": [
    "def meanTemp(temperatures):\n",
    "    mean_temperature = sum(temperatures) / len(temperatures) \n",
    "    print(f' The mean temperature for the last {len(temperatures)} days is {round(mean_temperature,2)}\\u00b0F.')\n",
    "meanTemp([68, 66, 79])"
   ]
  },
  {
   "cell_type": "code",
   "execution_count": null,
   "id": "078b9859-b45e-4bc5-bcca-7b85a528adaf",
   "metadata": {},
   "outputs": [],
   "source": []
  }
 ],
 "metadata": {
  "kernelspec": {
   "display_name": "anaconda-panel-2023.05-py310",
   "language": "python",
   "name": "conda-env-anaconda-panel-2023.05-py310-py"
  },
  "language_info": {
   "codemirror_mode": {
    "name": "ipython",
    "version": 3
   },
   "file_extension": ".py",
   "mimetype": "text/x-python",
   "name": "python",
   "nbconvert_exporter": "python",
   "pygments_lexer": "ipython3",
   "version": "3.11.5"
  }
 },
 "nbformat": 4,
 "nbformat_minor": 5
}
